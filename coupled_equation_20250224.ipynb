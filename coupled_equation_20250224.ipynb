{
 "cells": [
  {
   "cell_type": "code",
   "execution_count": 10,
   "metadata": {},
   "outputs": [],
   "source": [
    "# https://docs.scipy.org/doc/scipy/reference/generated/scipy.integrate.solve_ivp.html#scipy.integrate.solve_ivp\n",
    "from scipy.integrate import *\n",
    "import numpy as np\n",
    "import matplotlib.pyplot as plt\n",
    "from cmath import *\n",
    "import math\n",
    "from scipy.signal import *\n",
    "from scipy import signal\n",
    "from random import *\n",
    "import utility"
   ]
  },
  {
   "cell_type": "code",
   "execution_count": 11,
   "metadata": {},
   "outputs": [],
   "source": [
    "# !jupyter nbconvert --to script coupled_equation_20250106.ipynb"
   ]
  },
  {
   "cell_type": "code",
   "execution_count": 12,
   "metadata": {},
   "outputs": [],
   "source": [
    "# Some Simulation Settings\n",
    "\n",
    "# Driving Voltage Setting\n",
    "square_wave = 0\n",
    "sine_wave =1\n",
    "raise_cosine =0\n",
    "\n",
    "# Whether Use Pseudo Random Bit Sequence (Only valid when driven by raise cosine)\n",
    "PRBS = 1\n",
    "\n",
    "# Display Settings\n",
    "eye_diagram = 0\n",
    "show_voltage = 0\n",
    "show_capacitance = 0"
   ]
  },
  {
   "cell_type": "code",
   "execution_count": 13,
   "metadata": {},
   "outputs": [],
   "source": [
    "# setting ring parameters\n",
    "# from PDK RMCTE_R5AP_LPN_WG_450\n",
    " \n",
    "# coupled through coefficient\n",
    "gamma = 0.95012\n",
    "\n",
    "# modulation efficiency ( m/V, -0.5~0.5V )\n",
    "# me = -38.7e-12\n",
    "# # modulation efficiency ( m/V, -1~0.5V )\n",
    "me = -37.2e-12\n",
    "\n",
    "# neff from PDK (V = 0)\n",
    "neff = 2.51464\n",
    "\n",
    "# round trip tranmission coefficient (no unit)\n",
    "alpha = 0.95246\n",
    "\n",
    "# radius of ring\n",
    "radius = 5e-6\n",
    "\n",
    "# group velocity (hypothesis)\n",
    "ng = 4.3"
   ]
  },
  {
   "cell_type": "code",
   "execution_count": 14,
   "metadata": {},
   "outputs": [],
   "source": [
    "# driving parameters\n",
    "\n",
    "# time scaling \n",
    "t0 = 1e-12\n",
    "\n",
    "# bit numbers of PRBS\n",
    "N = 10\n",
    "# dc bias\n",
    "v_bias = -1\n",
    "# vpp\n",
    "vpp = 0\n",
    "\n",
    "# driving frequency (GHz)\n",
    "f = 100\n",
    "w_drive = 2*np.pi*f*1e9\n",
    "T = 1/(f*1e9)\n",
    "T_normalized = T/t0\n",
    "\n",
    "# series resistance\n",
    "R = 53.9\n",
    "\n",
    "# junction capacitance at difference bias\n",
    "# according to PDK data\n",
    "# if v_bias >=0:\n",
    "#     Cj = 23.6e-15 \n",
    "# if v_bias ==-1:\n",
    "#     Cj = 20e-15\n",
    "# if v_bias ==-2:\n",
    "#     Cj = 18.5e-15 \n",
    "def Cj(V):\n",
    "    return 3.7675e-14/( (2.5485-V)**0.5 )\n",
    "    # return 20e-15"
   ]
  },
  {
   "cell_type": "code",
   "execution_count": 15,
   "metadata": {},
   "outputs": [],
   "source": [
    "# calculating ring resonant frequency\n",
    "\n",
    "# Since coupled mode theory in time only consider one resonant frequency. \n",
    "# When deriving w0, one must find the integar of pi which the resonant is near 1550nm .\n",
    "# Note that the integar is even for resonant frequency, odd for anti-resonant frequency\n",
    "c = 299792458\n",
    "L=2*np.pi*radius\n",
    "w0 = 102*np.pi*c/(neff*L)\n",
    "lambda0 = 2*np.pi*c/w0"
   ]
  },
  {
   "cell_type": "code",
   "execution_count": 16,
   "metadata": {},
   "outputs": [
    {
     "data": {
      "text/plain": [
       "1216.0321444023796"
      ]
     },
     "execution_count": 16,
     "metadata": {},
     "output_type": "execute_result"
    }
   ],
   "source": [
    "w0*t0"
   ]
  },
  {
   "cell_type": "code",
   "execution_count": 17,
   "metadata": {},
   "outputs": [
    {
     "data": {
      "text/plain": [
       "1216032144402379.5"
      ]
     },
     "execution_count": 17,
     "metadata": {},
     "output_type": "execute_result"
    }
   ],
   "source": [
    "w0"
   ]
  },
  {
   "cell_type": "code",
   "execution_count": 18,
   "metadata": {},
   "outputs": [],
   "source": [
    "# setting incident light \n",
    "# input laser power (W)\n",
    "Pin = 1e-3\n",
    "# incidnet light frequency or wavelength\n",
    "\n",
    "wl =1.5488e-6\n",
    "w = 2*np.pi*c/wl"
   ]
  },
  {
   "cell_type": "code",
   "execution_count": 19,
   "metadata": {},
   "outputs": [],
   "source": [
    "# calculating parameter in couple mode equation in time\n",
    "\n",
    "kappa = (1-gamma**2)**0.5\n",
    "\n",
    "# photon life time in ring \n",
    "tu_o = -L*ng/(c*log(alpha))\n",
    "tu_e = -L*ng/(c*log(sqrt(1-kappa**2)))"
   ]
  },
  {
   "cell_type": "code",
   "execution_count": 20,
   "metadata": {},
   "outputs": [
    {
     "data": {
      "text/plain": [
       "(9.251342293048565e-12-0j)"
      ]
     },
     "execution_count": 20,
     "metadata": {},
     "output_type": "execute_result"
    }
   ],
   "source": [
    "tu_o"
   ]
  },
  {
   "cell_type": "code",
   "execution_count": 21,
   "metadata": {},
   "outputs": [
    {
     "name": "stdout",
     "output_type": "stream",
     "text": [
      "31466414735.8125\n",
      "3.1779915455759937e-12\n",
      "1e-13\n"
     ]
    }
   ],
   "source": [
    "# setting solver parameters\n",
    "\n",
    "# shifting frequency of field in ring from incident light frequency\n",
    "w_pround = w\n",
    "\n",
    "# Highest time accuracy in the result\n",
    "# dt = 1e-15\n",
    "f0 = w0/2/np.pi\n",
    "f_pround = w_pround/2/np.pi\n",
    "df_max = abs(  ( f0 - (c/lambda0**2)*me*( v_bias - vpp/2) ) - f_pround)\n",
    "if df_max < f*1e9:\n",
    "    dt = 1/(f*1e9)/10\n",
    "dt = (1/df_max/10)\n",
    "print(df_max)\n",
    "inte = (math.log10(dt))//1\n",
    "print(dt)\n",
    "dt = 10**(inte-1)\n",
    "print(dt)\n",
    "\n",
    "\n",
    "# if eye_diagram:\n",
    "t_min=0\n",
    "t_max = math.ceil( 1/(f*1e9)*N/t0 )\n",
    "t_total = np.array([])\n",
    "t_all_segment = np.zeros((N,1)).tolist()\n",
    "T_v1 = T/t0\n",
    "\n",
    "# recording length in each time segment\n",
    "number_record = np.array([])\n",
    "for r in range(N):\n",
    "    num = math.ceil( ( (r+1)*T_v1-dt/t0- (t_min+(r)*T_v1 ) ) / ( dt/t0 ))\n",
    "    t_segment = np.linspace(t_min+(r)*T_v1 , (r+1)*T_v1-dt/t0, num )\n",
    "    number_record= np.append(number_record,num)\n",
    "    t_total=np.append(t_total,t_segment)\n",
    "    t_all_segment[r][0] = t_segment[0]\n",
    "    t_all_segment[r].extend(t_segment[1:])\n",
    "# else:\n",
    "#     t_min=0\n",
    "#     t_max = math.ceil( 1/(f*1e9)*N/t0 )\n",
    "#     t_total = np.arange(t_min,t_max,dt/t0)\n",
    "#     t_pround = t_total*t0\n",
    "\n",
    "# print(number_record)\n",
    "w_drive = 2*np.pi*f*1e9\n",
    "b_init = 1e-6+1j*0\n",
    "Q_init = 0\n",
    "\n",
    "# relative solver tolerance \n",
    "rtol = 1e-14\n",
    "# absolute solver tolerance\n",
    "atol = 1e-20\n",
    "# accuracy = atol + abs(y)*rtol\n",
    "\n",
    "# method of solving algorithm\n",
    "method = 'RK45'\n",
    "\n"
   ]
  },
  {
   "cell_type": "code",
   "execution_count": 22,
   "metadata": {},
   "outputs": [],
   "source": [
    "# normalize factors\n",
    "S0 = sqrt(Pin)\n",
    "b0 = sqrt(t0)*S0\n",
    "tu_t = (1/tu_e+1/tu_o)**(-1)\n",
    "tu_t_bar = tu_t/t0\n",
    "tu_e_bar = tu_e/t0\n",
    "\n",
    "# normalized dw/dlambda\n",
    "D_bar = -2*np.pi*c/lambda0**2 * t0\n",
    "\n",
    "# normalized frequency\n",
    "w0_bar = w0*t0\n",
    "w_pround_bar = w_pround*t0\n"
   ]
  },
  {
   "cell_type": "code",
   "execution_count": 23,
   "metadata": {},
   "outputs": [],
   "source": [
    "# Generating PRBS \n",
    "if PRBS:\n",
    "    prbs =np.zeros(N)\n",
    "    for i in range(N):\n",
    "        prbs[i] = randint(0,1)\n",
    "else:\n",
    "    # Periodic Bit Sequence (this part only used when raise cosine is true while PRBS is false)\n",
    "    bit_sequence  = np.array([1,0])\n",
    "    T_normalized = 1/(f*1e9)/t0\n",
    "    for u in range(1,int(t_max/T_normalized)):\n",
    "        bit_sequence = np.append( bit_sequence , np.array( [1,0]) )"
   ]
  },
  {
   "cell_type": "code",
   "execution_count": 24,
   "metadata": {},
   "outputs": [],
   "source": [
    "# defining functions\n",
    "\n",
    "# incident light\n",
    "# def S_plus(w,t):\n",
    "#     return S0*np.exp(1j*w*t*t0)\n",
    "\n",
    "# incident light (shifted to w_pround)\n",
    "# def S_plus_pround(t):\n",
    "#     # return S_plus(w,t)*np.exp(-1j*w_pround*t*t0)\n",
    "#     return S0\n",
    "\n",
    "# driving voltage\n",
    "def sinc(t):\n",
    "    if t==0:\n",
    "        return 1\n",
    "    else:\n",
    "        return np.sin(np.pi*t)/(np.pi*t)\n",
    "\n",
    "def rcos(t,beta,T,shift,t0=t0):\n",
    "    \"\"\"\n",
    "    input:\n",
    "        shift:time shift of raise cosine function, must be integar of normalized T \n",
    "        T:period of a bit \n",
    "        t: giving time second(normalized)\n",
    "    \"\"\"\n",
    "    if not (beta==0):\n",
    "        if ((t-shift)*t0==T/2/beta or (t-shift)*t0==( -T/2/beta)):\n",
    "            if PRBS:\n",
    "                return prbs[int(shift/T_normalized)-1]*np.pi/4*sinc(1/2/beta)\n",
    "            else:\n",
    "                return bit_sequence[int(shift/T_normalized)-1]*np.pi/4*sinc(1/2/beta)\n",
    "        else:\n",
    "            if PRBS:\n",
    "                return prbs[int(shift/T_normalized)-1]*sinc((t-shift)*t0/T)*np.cos(np.pi*beta*(t-shift)*t0/T)/(1-(2*beta*(t-shift)*t0/T)**2)\n",
    "            else:\n",
    "                return bit_sequence[int(shift/T_normalized)-1]*sinc((t-shift)*t0/T)*np.cos(np.pi*beta*(t-shift)*t0/T)/(1-(2*beta*(t-shift)*t0/T)**2)\n",
    "        \n",
    "\n",
    "def v(w_drive,t,beta=1):\n",
    "    if square_wave:\n",
    "        return vpp/2*signal.square(w_drive*t*t0,duty=0.5)+v_bias\n",
    "    if sine_wave:\n",
    "        return vpp/2*np.exp(1j*w_drive*t*t0)+v_bias\n",
    "    if raise_cosine:\n",
    "        T_period = 1/(f*1e9)\n",
    "        T_period_normalized = T_period/t0\n",
    "        a=0\n",
    "        if PRBS:\n",
    "            for i in range(N):\n",
    "                a +=  (vpp*rcos(t, beta, T_period,(i+1)*T_period_normalized))\n",
    "        else:\n",
    "            for i in range(len(bit_sequence)):\n",
    "                a +=  (vpp*rcos(t, beta, T_period,(i+1)*T_period_normalized))\n",
    "        return a+v_bias-vpp/2  \n",
    "\n",
    "    \n",
    "\n",
    "# incident light (shifted to w_pround)\n",
    "# def S_plus_pround_bar(t):\n",
    "#     return S_plus_pround(t)/S0\n"
   ]
  },
  {
   "cell_type": "code",
   "execution_count": 25,
   "metadata": {},
   "outputs": [],
   "source": [
    "# defining CMT function\n",
    "\n",
    "\n",
    "# normalized coupling coefficient in time\n",
    "kappa_time = sqrt(2/tu_e_bar)\n",
    "\n",
    "\n",
    "def CMT(t_bar,eqs):\n",
    "    b_bar , Q_pround = eqs\n",
    "    f2 = (v(w_drive,t_bar)/(R*Cj(v(w_drive,t_bar)))*t0) - (1/( R*Cj( v(w_drive,t_bar) ) ) )*Q_pround*t0\n",
    "    f1 = 1j*(w0_bar-w_pround_bar)*b_bar- (1/tu_t_bar)*b_bar + kappa_time *1 + 1j*D_bar*me*Q_pround*b_bar\n",
    "    \n",
    "    return [ f1,f2 ]\n"
   ]
  },
  {
   "cell_type": "code",
   "execution_count": 26,
   "metadata": {},
   "outputs": [
    {
     "name": "stderr",
     "output_type": "stream",
     "text": [
      "c:\\Users\\kevin\\anaconda3\\lib\\site-packages\\scipy\\integrate\\_ivp\\common.py:46: UserWarning: `rtol` is too low, setting to 2.220446049250313e-14\n",
      "  warn(\"`rtol` is too low, setting to {}\".format(100 * EPS))\n"
     ]
    }
   ],
   "source": [
    "# solving CMT\n",
    "# if eye_diagram:\n",
    "#     \"\"\"Since the length of solution function array may not be the same as t_eval argument we specified when the time in single solve_ivp is long.\n",
    "#     Hence, we divide the time according to the Baud Rate, and solve coupled differential equation by each time segments. \n",
    "#     \"\"\"\n",
    "#     b_record = np.array([])\n",
    "#     Q_record = np.array([])\n",
    "#     for i in range(N):\n",
    "#         if i==0:\n",
    "#             sol =  solve_ivp(CMT ,[t_min+T_normalized*i ,T_normalized*(i+1)], [b_init, Q_init],method=method,t_eval = t_all_segment[i] ,atol = atol,rtol = rtol)\n",
    "#             b = sol.y[0]\n",
    "#             b_record = np.append(b_record,b)\n",
    "#             q = sol.y[1]\n",
    "#             Q_record = np.append(Q_record,q)\n",
    "#         else:\n",
    "#             sol =  solve_ivp(CMT ,[t_min ,T_normalized*(i+1)], [b_init, Q_init],method=method,t_eval = np.append( np.array( [t_all_segment[i][0]-dt/t0]), t_all_segment[i]  ),atol = atol,rtol = rtol)\n",
    "#             b = sol.y[0]\n",
    "#             b_record = np.append(b_record,b[1::])\n",
    "#             q = sol.y[1]\n",
    "#             Q_record = np.append(Q_record,q[1::])\n",
    "#         b_init = b[-1]\n",
    "#         Q_init = q[-1]\n",
    "# else:\n",
    "sol = solve_ivp(CMT ,[t_min ,t_max], [b_init, Q_init],method=method,t_eval = t_total,atol = atol,rtol = rtol)\n",
    "     "
   ]
  },
  {
   "cell_type": "code",
   "execution_count": 27,
   "metadata": {},
   "outputs": [],
   "source": [
    "# if eye_diagram:\n",
    "# b_bar = b_record\n",
    "# Q_bar = Q_record\n",
    "# else:\n",
    "b_bar = (sol.y[0])\n",
    "Q_bar = (sol.y[1])\n",
    "# t_vals = np.arange(t_min*t0,t_max*t0,dt)\n",
    "# b_bar_vals = np.interp(t_vals, t_total*t0, b_bar)\n",
    "# a_bar_vals = b_bar*np.exp(1j*w_pround*t_total*t0)\n",
    "\n",
    "# s_minus_bar = (S_plus(w_pround,t_total)/S0-sqrt(2/tu_e_bar)*a_bar_vals)\n",
    "# s_minus_bar = (S_plus_pround(t_total)/S0-sqrt(2/tu_e_bar)*b_bar)\n",
    "\n",
    "s_minus_bar = (1-sqrt(2/tu_e_bar)*b_bar)"
   ]
  },
  {
   "cell_type": "code",
   "execution_count": 28,
   "metadata": {},
   "outputs": [],
   "source": [
    "# prepare data for showing\n",
    "if show_voltage or show_capacitance:\n",
    "    v_show = np.zeros(len(t_total))\n",
    "    C_show = np.zeros(len(t_total))\n",
    "    for i in range(len(t_total)):\n",
    "        v_show[i]=v(w_drive,t_total[i])\n",
    "        C_show[i]=Cj(v_show[i])"
   ]
  },
  {
   "cell_type": "code",
   "execution_count": 29,
   "metadata": {},
   "outputs": [],
   "source": [
    "if show_voltage:\n",
    "    plt.figure()\n",
    "    plt.plot(t_total*t0, v_show)\n",
    "    plt.title(\"applied voltage\")\n",
    "    plt.xlabel('t')\n",
    "    plt.show()"
   ]
  },
  {
   "cell_type": "code",
   "execution_count": 30,
   "metadata": {},
   "outputs": [
    {
     "data": {
      "image/png": "[encoded data removed]",
      "text/plain": [
       "<Figure size 432x288 with 1 Axes>"
      ]
     },
     "metadata": {
      "needs_background": "light"
     },
     "output_type": "display_data"
    }
   ],
   "source": [
    "plt.figure()\n",
    "plt.plot(t_total*t0,np.real(b_bar) )\n",
    "plt.title(\"b_bar\")\n",
    "plt.xlabel('t')\n",
    "plt.show()"
   ]
  },
  {
   "cell_type": "code",
   "execution_count": 31,
   "metadata": {},
   "outputs": [],
   "source": [
    "if show_voltage:\n",
    "    plt.figure()\n",
    "    plt.plot(t_total*t0, v_show)\n",
    "    plt.title(\"applied voltage\")\n",
    "    plt.xlabel('t')\n",
    "    plt.show()\n",
    "# plt.figure()\n",
    "# plt.plot(t_total*t0, abs(a_bar_vals*b0)**2)\n",
    "# plt.title(r\"|a|^2\")\n",
    "# plt.xlabel('t')\n",
    "# plt.show()"
   ]
  },
  {
   "cell_type": "code",
   "execution_count": 32,
   "metadata": {},
   "outputs": [
    {
     "data": {
      "image/png": "[encoded data removed]",
      "text/plain": [
       "<Figure size 432x288 with 1 Axes>"
      ]
     },
     "metadata": {
      "needs_background": "light"
     },
     "output_type": "display_data"
    }
   ],
   "source": [
    "plt.figure()\n",
    "plt.plot(t_total*t0, abs(b_bar*b0)**2)\n",
    "plt.title(r\"|a|^2\")\n",
    "plt.xlabel('t')\n",
    "plt.show()"
   ]
  },
  {
   "cell_type": "code",
   "execution_count": 33,
   "metadata": {},
   "outputs": [],
   "source": [
    "if show_capacitance:\n",
    "    plt.figure()\n",
    "    plt.plot(t_total*t0, C_show)\n",
    "    plt.title(\"Cj\")\n",
    "    plt.xlabel('t')\n",
    "    plt.show()"
   ]
  },
  {
   "cell_type": "code",
   "execution_count": 34,
   "metadata": {},
   "outputs": [],
   "source": [
    "if show_capacitance:\n",
    "    plt.figure()\n",
    "    plt.plot(t_total*t0, (sol.y[1])*C_show)\n",
    "    plt.title(\"Q\")\n",
    "    plt.xlabel('t')\n",
    "    plt.show()\n",
    "# plt.figure()\n",
    "# plt.plot(t_total[-int(len(s_minus_bar)/10*2):-1]*t0, (sol.y[1][-int(len(s_minus_bar)/10*2):-1])*C_show[-int(len(s_minus_bar)/10*2):-1])\n",
    "# plt.title(\"Q\")\n",
    "# plt.xlabel('t')\n",
    "# plt.show()\n",
    "# plt.figure()\n",
    "# plt.plot(t_total[-260000:-250000]*t0, (sol.y[1][-260000:-250000])*C_show[-260000:-250000])\n",
    "# plt.title(\"Q\")\n",
    "# plt.xlabel('t')\n",
    "# plt.show()"
   ]
  },
  {
   "cell_type": "code",
   "execution_count": 35,
   "metadata": {},
   "outputs": [
    {
     "data": {
      "image/png": "[encoded data removed]",
      "text/plain": [
       "<Figure size 432x288 with 1 Axes>"
      ]
     },
     "metadata": {
      "needs_background": "light"
     },
     "output_type": "display_data"
    }
   ],
   "source": [
    "plt.figure()\n",
    "plt.plot(t_total*t0, abs(s_minus_bar*S0)**2)\n",
    "plt.title(r'$|s_-|^2$')\n",
    "plt.xlabel('t')\n",
    "plt.show()\n",
    "\n",
    "# plt.figure()\n",
    "# plt.scatter(t_total[-int(len(s_minus_bar)/10)-10:-int(len(s_minus_bar)/10)+10]*t0, abs(s_minus_bar[-int(len(s_minus_bar)/10)-10:-int(len(s_minus_bar)/10)+10]*S0)**2)\n",
    "# plt.title(r'$|s_-|^2$')\n",
    "# plt.xlabel('t')\n",
    "# plt.show()\n",
    "\n",
    "# plt.figure()\n",
    "# plt.plot(t_total[-int(len(s_minus_bar)/100*2):-1]*t0, 180/np.pi*np.angle(s_minus_bar[-int(len(s_minus_bar)/100*2):-1]))\n",
    "# plt.title(r'phase of s-')\n",
    "# plt.xlabel('t')\n",
    "# plt.show()"
   ]
  },
  {
   "cell_type": "code",
   "execution_count": 36,
   "metadata": {},
   "outputs": [
    {
     "data": {
      "image/png": "[encoded data removed]",
      "text/plain": [
       "<Figure size 432x288 with 1 Axes>"
      ]
     },
     "metadata": {
      "needs_background": "light"
     },
     "output_type": "display_data"
    }
   ],
   "source": [
    "plt.figure()\n",
    "plt.plot(t_total*t0, 180/np.pi*np.angle(s_minus_bar*b0))\n",
    "plt.title(r'phase of s-')\n",
    "plt.xlabel('t')\n",
    "plt.show()"
   ]
  },
  {
   "cell_type": "code",
   "execution_count": 37,
   "metadata": {},
   "outputs": [],
   "source": [
    "if eye_diagram:\n",
    "    cum_t_index = np.zeros(N)\n",
    "    seg = t_all_segment[0]\n",
    "    sig = abs(s_minus_bar*S0)**2\n",
    "    for q in range(N):\n",
    "        if q==0:\n",
    "            cum_t_index[q] = (len(t_all_segment[q]))\n",
    "        else:\n",
    "            cum_t_index[q] = (len(t_all_segment[q]) + cum_t_index[q-1])\n",
    "    \n",
    "    plt.figure()\n",
    "    # discarding the first two bits\n",
    "    discarding = 2\n",
    "    if PRBS:\n",
    "        for k in range( discarding+1,N):\n",
    "            sig_segment = sig[int(cum_t_index[k-1]):int(cum_t_index[k])]\n",
    "            last = t_all_segment[k-1][-1]\n",
    "            plt.plot( t0*(np.array(t_all_segment[k][:])-last),sig_segment, color='crimson')\n",
    "    else:\n",
    "        for k in range( discarding+1,int(t_max/T_normalized)):\n",
    "            sig_segment = sig[int(cum_t_index[k-1]):int(cum_t_index[k])]\n",
    "            last = t_all_segment[k-1][-1]\n",
    "            \n",
    "            plt.plot( t0*(np.array(t_all_segment[k][:])-last),sig_segment, color='crimson')\n",
    "\n",
    "    plt.grid(color='w')\n",
    "\n",
    "    ax = plt.gca()\n",
    "    ax.set_facecolor('k')\n",
    "    ax.set_xticks(np.linspace(t_min,t_min+T,15))\n",
    "    # ax.set_yticks(np.linspace(v_bias+vpp/2,v_bias-vpp/2,15))\n",
    "    ax.tick_params(axis='both', which='major', labelsize=7)\n",
    "    plt.xlabel(\"time (second)\")\n",
    "    plt.title(r\"$|s_-|^2$\")\n",
    "    # ax.set_xticklabels([])\n",
    "    # ax.set_yticklabels([])\n",
    "    # plt.colorbar()\n",
    "    fig = plt.gcf()"
   ]
  },
  {
   "cell_type": "code",
   "execution_count": 38,
   "metadata": {},
   "outputs": [],
   "source": [
    "if PRBS and raise_cosine:\n",
    "    print( prbs)"
   ]
  },
  {
   "cell_type": "code",
   "execution_count": 39,
   "metadata": {},
   "outputs": [
    {
     "name": "stdout",
     "output_type": "stream",
     "text": [
      "max of s_minus phase =  49.848172960853425\n",
      "min of s_minus phase =  49.848171635982176\n"
     ]
    }
   ],
   "source": [
    "phase_s_max = max(180/np.pi*np.angle(s_minus_bar[-int(len(s_minus_bar)/10*2):-1]))\n",
    "phase_s_min = min(180/np.pi*np.angle(s_minus_bar[-int(len(s_minus_bar)/10*2):-1]))\n",
    "print('max of s_minus phase = ',phase_s_max)\n",
    "print('min of s_minus phase = ',phase_s_min)"
   ]
  },
  {
   "cell_type": "code",
   "execution_count": 40,
   "metadata": {},
   "outputs": [
    {
     "name": "stdout",
     "output_type": "stream",
     "text": [
      "max of s_minus =  0.00044344846876433143\n",
      "min of s_minus =  0.0004434484614729761\n"
     ]
    }
   ],
   "source": [
    "s_max = max(abs(s_minus_bar[-int(len(s_minus_bar)/10*2):-1]*S0)**2)\n",
    "s_min = min(abs(s_minus_bar[-int(len(s_minus_bar)/10*2):-1]*S0)**2)\n",
    "print('max of s_minus = ',s_max)\n",
    "print('min of s_minus = ',s_min)"
   ]
  },
  {
   "cell_type": "code",
   "execution_count": 41,
   "metadata": {},
   "outputs": [
    {
     "name": "stdout",
     "output_type": "stream",
     "text": [
      "Extinction ratio =  (7.140841938138414e-08+0j)\n"
     ]
    }
   ],
   "source": [
    "ER = 10*log10(s_max/s_min)\n",
    "print(\"Extinction ratio = \", ER)"
   ]
  },
  {
   "cell_type": "code",
   "execution_count": 42,
   "metadata": {},
   "outputs": [
    {
     "name": "stdout",
     "output_type": "stream",
     "text": [
      "Q factor of ring is  2743.2132540748134\n"
     ]
    }
   ],
   "source": [
    "# Q factor of ring\n",
    "Q_factor = (2/w0/tu_e + 2/w0/tu_o)**-1\n",
    "print(\"Q factor of ring is \",np.real(Q_factor))"
   ]
  }
 ],
 "metadata": {
  "kernelspec": {
   "display_name": "base",
   "language": "python",
   "name": "python3"
  },
  "language_info": {
   "codemirror_mode": {
    "name": "ipython",
    "version": 3
   },
   "file_extension": ".py",
   "mimetype": "text/x-python",
   "name": "python",
   "nbconvert_exporter": "python",
   "pygments_lexer": "ipython3",
   "version": "3.9.7"
  }
 },
 "nbformat": 4,
 "nbformat_minor": 2
}
